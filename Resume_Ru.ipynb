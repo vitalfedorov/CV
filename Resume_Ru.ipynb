{
  "nbformat": 4,
  "nbformat_minor": 0,
  "metadata": {
    "colab": {
      "name": "Resume Ru.ipynb",
      "provenance": [],
      "authorship_tag": "ABX9TyO0hk+z5aJpBQ28pSsB+OEQ",
      "include_colab_link": true
    },
    "kernelspec": {
      "name": "python3",
      "display_name": "Python 3"
    },
    "language_info": {
      "name": "python"
    }
  },
  "cells": [
    {
      "cell_type": "markdown",
      "metadata": {
        "id": "view-in-github",
        "colab_type": "text"
      },
      "source": [
        "<a href=\"https://colab.research.google.com/github/vitalfedorov/CV/blob/main/Resume_Ru.ipynb\" target=\"_parent\"><img src=\"https://colab.research.google.com/assets/colab-badge.svg\" alt=\"Open In Colab\"/></a>"
      ]
    },
    {
      "cell_type": "markdown",
      "metadata": {
        "id": "BmO5ND6Z6xRH"
      },
      "source": [
        "![](https://drive.google.com/uc?export=view&id=1NNd3GHYdT35Uca8wXkBceNiReSJ6DdH9)\n",
        "<p align=\"center\">\n",
        "###<center><b><font size=\"6\">Виталий Фёдоров</font></b></center>  \n",
        "</p>\n",
        "---\n",
        "\n",
        "<center>tel: +7 (905) 773-87-63; e-mail: vital.fedorov@me.com</center>\n",
        "\n",
        "---\n",
        "\n",
        "##<pre>Data scientist</pre>\n",
        "> <b>Programming skills</b>: Python, C/C++, SQL  \n",
        "> <b>Frameworks and Toolkits</b>: Numpy, Pandas, Scikit-learn, Tensorflow, PyTorch, Docker  \n",
        "> <b>OS</b>: Ubuntu, MacOS, Win\n",
        "\n",
        "##<pre>Образование</pre>\n",
        "<b>ИАТЭ НИЯУ \"МИФИ\" (1994-2000)</b>\n",
        "> Кибернетика, Специалист    \n",
        "\n",
        "<b>MOOC</b>\n",
        "> Coursera. GANs. 2021 - В процессе...  \n",
        "> Coursera. Natural Language Processing. 2020  \n",
        "> Coursera. Machine Learning. 2018  \n",
        "\n",
        "<b>Kaggle - <https://www.kaggle.com/vv0x0x></b>\n",
        "> Серебрянная медаль в соревновании \"Santander Customer Transaction Prediction\"  \n",
        "> Серебрянная медаль за тетрадку \"2LSTM+Attention is Incoming\"  \n",
        "\n",
        "##<pre>Опыт работы</pre>\n",
        "<b>ИНСАП РАНХиГС. Научный сотрудник. (2013 - н.в.)</b>\n",
        "> <i>Реформирование и развитие пенсионной системы РФ</i>  \n",
        "> Препринты:\n",
        ">> - Совершенствование механизмов и источников финансирования страховой пенсионной системы. 2021  \n",
        ">> - Факторы роста уровня пенсионного обеспечения в среднесрочной и долгосрочной перспективе. 2020  \n",
        ">> - Усиление страховых принципов в системе обязательного пенсионного страхования. 2019  \n",
        ">> - Анализ влияния налоговой системы на доходы населения на современном этапе экономического развития. 2018  \n",
        "\n",
        "<b> Страховая компания \"Согласие\". Главный специалист. (2009 - 2013)</b>\n",
        "> <i>Стратегия развития компании</i>  \n",
        "> Финансовое моделирование, подготовка аналитических материалов и презентаций\n",
        "\n",
        "<b>ПАО \"Норильский никель\". Главный специалист. (2003 - 2009)</b>\n",
        "> <i>Развитии системы оплаты труда</i>   \n",
        "> Разработка базы данных, моделирование, подготовка аналитических материалов и презентаций\n",
        "\n",
        "<b>Cognitive Technologies Ltd. Программист. (1999-2003) </b>\n",
        "> <i>Разработка системы машинного перевода</i>  \n",
        "> Создание морфологических словарей, словарей перевода, разработка интерпретатора языка программирования для синтаксического разбора  \n",
        ">  \n",
        "> <i>Оптическое распознавание символов (OCR)</i>   \n",
        "> Словарная коррекция результатов распознавания системы OCR\n",
        "\n",
        "##<pre>Дополнительно</pre>\n",
        "> Без вредных привычек  \n",
        "> Хожу на фитнес  \n",
        "> КМС по фигурному катанию, чемпион г. Норильска "
      ]
    },
    {
      "cell_type": "code",
      "metadata": {
        "id": "HA_2GAIbah_3"
      },
      "source": [
        ""
      ],
      "execution_count": null,
      "outputs": []
    }
  ]
}